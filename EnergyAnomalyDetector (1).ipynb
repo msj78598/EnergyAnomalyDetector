{
  "nbformat": 4,
  "nbformat_minor": 0,
  "metadata": {
    "colab": {
      "provenance": []
    },
    "kernelspec": {
      "name": "python3",
      "display_name": "Python 3"
    },
    "language_info": {
      "name": "python"
    }
  },
  "cells": [
    {
      "cell_type": "code",
      "execution_count": 5,
      "metadata": {
        "colab": {
          "base_uri": "https://localhost:8080/",
          "height": 650
        },
        "id": "u-0vBL4ElQZZ",
        "outputId": "652787a8-218c-4f86-f395-808509b51820"
      },
      "outputs": [
        {
          "output_type": "stream",
          "name": "stdout",
          "text": [
            "Setting queue=True in a Colab notebook requires sharing enabled. Setting `share=True` (you can turn this off by setting `share=False` in `launch()` explicitly).\n",
            "\n",
            "Colab notebook detected. To show errors in colab notebook, set debug=True in launch()\n",
            "Running on public URL: https://5ca4e1dc318de1f8d6.gradio.live\n",
            "\n",
            "This share link expires in 72 hours. For free permanent hosting and GPU upgrades, run `gradio deploy` from Terminal to deploy to Spaces (https://huggingface.co/spaces)\n"
          ]
        },
        {
          "output_type": "display_data",
          "data": {
            "text/plain": [
              "<IPython.core.display.HTML object>"
            ],
            "text/html": [
              "<div><iframe src=\"https://5ca4e1dc318de1f8d6.gradio.live\" width=\"100%\" height=\"500\" allow=\"autoplay; camera; microphone; clipboard-read; clipboard-write;\" frameborder=\"0\" allowfullscreen></iframe></div>"
            ]
          },
          "metadata": {}
        },
        {
          "output_type": "execute_result",
          "data": {
            "text/plain": []
          },
          "metadata": {},
          "execution_count": 5
        }
      ],
      "source": [
        "import pandas as pd\n",
        "import numpy as np\n",
        "import matplotlib.pyplot as plt\n",
        "from sklearn.model_selection import train_test_split\n",
        "from sklearn.ensemble import RandomForestClassifier, RandomForestRegressor\n",
        "from sklearn.metrics import classification_report, accuracy_score, mean_absolute_error, mean_squared_error, r2_score\n",
        "import gradio as gr\n",
        "\n",
        "# Function to load data\n",
        "def load_data(file):\n",
        "    data = pd.read_excel(file.name)\n",
        "    return data\n",
        "\n",
        "# Function to add anomaly detection columns based on the provided rules\n",
        "def add_anomaly_columns(data):\n",
        "    data['Anomaly'] = (\n",
        "        ((data['a1'] == 0) & ((data['a2'] > 0) | (data['a3'] > 0))) |\n",
        "        ((data['a2'] == 0) & ((data['a1'] > 0) | (data['a3'] > 0))) |\n",
        "        ((data['a3'] == 0) & ((data['a1'] > 0) | (data['a2'] > 0)))\n",
        "    )\n",
        "    return data\n",
        "\n",
        "# Function to add feature engineering columns\n",
        "def add_features(data):\n",
        "    data['mean_a'] = data[['a1', 'a2', 'a3']].mean(axis=1)\n",
        "    data['std_a'] = data[['a1', 'a2', 'a3']].std(axis=1)\n",
        "    return data\n",
        "\n",
        "# Function to prepare data for classification\n",
        "def prepare_classification_data(data):\n",
        "    features = ['a1', 'a2', 'a3', 'mean_a', 'std_a']\n",
        "    X = data[features]\n",
        "    y = data['Anomaly']\n",
        "    return X, y\n",
        "\n",
        "# Function to calculate regression metrics and return the model\n",
        "def calculate_regression_metrics(data, a_col):\n",
        "    valid_mask = (data[a_col] != 0)\n",
        "    X = data[valid_mask][[a_col]].values\n",
        "    y = data[valid_mask][a_col].values\n",
        "\n",
        "    model = RandomForestRegressor(random_state=42)\n",
        "    model.fit(X, y)\n",
        "    y_pred = model.predict(X)\n",
        "\n",
        "    mae = mean_absolute_error(y, y_pred)\n",
        "    rmse = np.sqrt(mean_squared_error(y, y_pred))\n",
        "    r2 = r2_score(y, y_pred)\n",
        "\n",
        "    return mae, rmse, r2, model\n",
        "\n",
        "def process_data(file):\n",
        "    data = load_data(file)\n",
        "    data = add_anomaly_columns(data)\n",
        "    data = add_features(data)\n",
        "    X, y = prepare_classification_data(data)\n",
        "\n",
        "    # Split the data into training and testing sets\n",
        "    X_train, X_test, y_train, y_test = train_test_split(X, y, test_size=0.3, random_state=42)\n",
        "\n",
        "    # Random Forest Classifier\n",
        "    rf_model = RandomForestClassifier(random_state=42)\n",
        "    rf_model.fit(X_train, y_train)\n",
        "    y_pred_rf = rf_model.predict(X_test)\n",
        "\n",
        "    # Calculate accuracy and classification report\n",
        "    accuracy_rf = accuracy_score(y_test, y_pred_rf)\n",
        "    report_rf = classification_report(y_test, y_pred_rf, output_dict=True)\n",
        "\n",
        "    # Save the anomalies to a new Excel file with sorting\n",
        "    anomalies = data[data['Anomaly'] == True]\n",
        "    anomalies_sorted = anomalies.sort_values(by='mean_a', ascending=False)\n",
        "    anomalies_file_path = 'anomalies_sorted.xlsx'\n",
        "    anomalies_sorted.to_excel(anomalies_file_path, index=False)\n",
        "\n",
        "    # Generate a plot\n",
        "    fig, ax = plt.subplots()\n",
        "    for a_col in ['a1', 'a2', 'a3']:\n",
        "        mae, rmse, r2, model = calculate_regression_metrics(data, a_col)\n",
        "        valid_mask = (data[a_col] != 0)\n",
        "        X = data[valid_mask][[a_col]].values\n",
        "        y = data[valid_mask][a_col].values\n",
        "        y_pred = model.predict(X)\n",
        "\n",
        "        ax.scatter(X, y, label=f'Actual Data ({a_col})')\n",
        "        sorted_idx = X.flatten().argsort()\n",
        "        ax.plot(X[sorted_idx], y_pred[sorted_idx], label=f'Regression Line ({a_col})')\n",
        "\n",
        "    ax.set_xlabel('Amperes')\n",
        "    ax.set_ylabel('Values')\n",
        "    ax.set_title('Regression Analysis')\n",
        "    ax.legend()\n",
        "    plt.tight_layout()\n",
        "    plt.savefig('/content/plot.png')\n",
        "\n",
        "    return accuracy_rf, report_rf, anomalies_file_path, '/content/plot.png'\n",
        "\n",
        "# Define the Gradio interface\n",
        "interface = gr.Interface(\n",
        "    fn=process_data,\n",
        "    inputs=gr.File(label=\"Upload your Excel file\"),\n",
        "    outputs=[\n",
        "        gr.Textbox(label=\"Accuracy\"),\n",
        "        gr.JSON(label=\"Classification Report\"),\n",
        "        gr.File(label=\"Download Anomalies\"),\n",
        "        gr.Image(label=\"Regression Plot\")\n",
        "    ],\n",
        "    live=True\n",
        ")\n",
        "\n",
        "# Launch the Gradio app\n",
        "interface.launch()\n"
      ]
    },
    {
      "cell_type": "code",
      "source": [
        "pip freeze > requirements.txt\n"
      ],
      "metadata": {
        "id": "M8_FcQ_doMJC"
      },
      "execution_count": 6,
      "outputs": []
    }
  ]
}